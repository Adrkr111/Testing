{
 "cells": [
  {
   "cell_type": "code",
   "execution_count": 21,
   "id": "7c4aff08",
   "metadata": {},
   "outputs": [],
   "source": [
    "p=100000\n",
    "i=1\n",
    "while(i<=3):\n",
    "    a=p+(p*.08)\n",
    "    p=a+100000\n",
    "    i+=1"
   ]
  },
  {
   "cell_type": "code",
   "execution_count": 22,
   "id": "02c2b761",
   "metadata": {},
   "outputs": [
    {
     "data": {
      "text/plain": [
       "350611.2"
      ]
     },
     "execution_count": 22,
     "metadata": {},
     "output_type": "execute_result"
    }
   ],
   "source": [
    "a"
   ]
  },
  {
   "cell_type": "markdown",
   "id": "f84e585c",
   "metadata": {},
   "source": [
    "10800*()"
   ]
  },
  {
   "cell_type": "code",
   "execution_count": 26,
   "id": "49b0ac25",
   "metadata": {},
   "outputs": [
    {
     "data": {
      "text/plain": [
       "683251.2000000001"
      ]
     },
     "execution_count": 26,
     "metadata": {},
     "output_type": "execute_result"
    }
   ],
   "source": [
    "108000*(((2.08)**2)+2)"
   ]
  },
  {
   "cell_type": "code",
   "execution_count": 29,
   "id": "56cf4f0b",
   "metadata": {},
   "outputs": [
    {
     "data": {
      "text/plain": [
       "224640.00000000003"
      ]
     },
     "execution_count": 29,
     "metadata": {},
     "output_type": "execute_result"
    }
   ],
   "source": [
    "208000*(1.08)"
   ]
  },
  {
   "cell_type": "code",
   "execution_count": 30,
   "id": "aaaa11e8",
   "metadata": {},
   "outputs": [
    {
     "data": {
      "text/plain": [
       "324640.0"
      ]
     },
     "execution_count": 30,
     "metadata": {},
     "output_type": "execute_result"
    }
   ],
   "source": [
    "224640.00000000003+100000"
   ]
  },
  {
   "cell_type": "code",
   "execution_count": 31,
   "id": "fd16f7e6",
   "metadata": {},
   "outputs": [
    {
     "data": {
      "text/plain": [
       "350611.2"
      ]
     },
     "execution_count": 31,
     "metadata": {},
     "output_type": "execute_result"
    }
   ],
   "source": [
    "324640.0*(1.08)"
   ]
  },
  {
   "cell_type": "code",
   "execution_count": 32,
   "id": "8dad5c11",
   "metadata": {},
   "outputs": [
    {
     "data": {
      "text/plain": [
       "4.3264000000000005"
      ]
     },
     "execution_count": 32,
     "metadata": {},
     "output_type": "execute_result"
    }
   ],
   "source": [
    "2.08**2"
   ]
  },
  {
   "cell_type": "code",
   "execution_count": 33,
   "id": "da88826f",
   "metadata": {},
   "outputs": [
    {
     "data": {
      "text/plain": [
       "2.3264000000000005"
      ]
     },
     "execution_count": 33,
     "metadata": {},
     "output_type": "execute_result"
    }
   ],
   "source": [
    "4.3264000000000005-2"
   ]
  },
  {
   "cell_type": "code",
   "execution_count": 34,
   "id": "2818ec0b",
   "metadata": {},
   "outputs": [
    {
     "data": {
      "text/plain": [
       "251251.20000000004"
      ]
     },
     "execution_count": 34,
     "metadata": {},
     "output_type": "execute_result"
    }
   ],
   "source": [
    "2.3264000000000005*108000"
   ]
  },
  {
   "cell_type": "code",
   "execution_count": 71,
   "id": "6c68c3db",
   "metadata": {},
   "outputs": [],
   "source": [
    "a=1.08\n",
    "r=1.08\n",
    "n=3\n",
    "s=a*(((r**3)-1)/(r-1))"
   ]
  },
  {
   "cell_type": "code",
   "execution_count": 72,
   "id": "d07fcbeb",
   "metadata": {},
   "outputs": [
    {
     "data": {
      "text/plain": [
       "1.0"
      ]
     },
     "execution_count": 72,
     "metadata": {},
     "output_type": "execute_result"
    }
   ],
   "source": [
    "1.0"
   ]
  },
  {
   "cell_type": "code",
   "execution_count": 73,
   "id": "8a531e84",
   "metadata": {},
   "outputs": [
    {
     "data": {
      "text/plain": [
       "3.506111999999999"
      ]
     },
     "execution_count": 73,
     "metadata": {},
     "output_type": "execute_result"
    }
   ],
   "source": [
    "s"
   ]
  },
  {
   "cell_type": "code",
   "execution_count": 75,
   "id": "dde3389b",
   "metadata": {},
   "outputs": [
    {
     "data": {
      "text/plain": [
       "350611.1999999999"
      ]
     },
     "execution_count": 75,
     "metadata": {},
     "output_type": "execute_result"
    }
   ],
   "source": [
    "100000*s"
   ]
  },
  {
   "cell_type": "code",
   "execution_count": 76,
   "id": "c5f6a1e5",
   "metadata": {},
   "outputs": [
    {
     "data": {
      "text/plain": [
       "3.506111999999999"
      ]
     },
     "execution_count": 76,
     "metadata": {},
     "output_type": "execute_result"
    }
   ],
   "source": [
    "s"
   ]
  },
  {
   "cell_type": "code",
   "execution_count": 61,
   "id": "d5c8e078",
   "metadata": {},
   "outputs": [
    {
     "data": {
      "text/plain": [
       "3.2464000000000004"
      ]
     },
     "execution_count": 61,
     "metadata": {},
     "output_type": "execute_result"
    }
   ],
   "source": [
    "1+1.08+(1.08**2)"
   ]
  },
  {
   "cell_type": "code",
   "execution_count": 177,
   "id": "bd6ed7fe",
   "metadata": {},
   "outputs": [],
   "source": [
    "class Return_PF:\n",
    "    def __init__(self,tenure,rate,monthly_deposit,company_deposit=1800):\n",
    "        self.monthly_deposit=monthly_deposit\n",
    "        self.company_deposit=company_deposit\n",
    "        self.tenure=tenure\n",
    "        self.anual_amt_deposit=(self.monthly_deposit+company_deposit)*12\n",
    "        self.a=(1+(rate/100))\n",
    "        self.final_amount=self.anual_amt_deposit*(self.a)*((((self.a)**self.tenure)-1)/(self.a-1))\n",
    "    def value_investment(self,value,company_deposit=1800):\n",
    "        investment=value/((self.a)*((((self.a)**self.tenure)-1)/(self.a-1)))\n",
    "        print(\"Monthly deposit :{o} is required \".format(o=round((investment/12)-company_deposit)))\n",
    "        "
   ]
  },
  {
   "cell_type": "code",
   "execution_count": 181,
   "id": "abea0c70",
   "metadata": {},
   "outputs": [],
   "source": [
    "pf=Return_PF(35,8,10000)"
   ]
  },
  {
   "cell_type": "code",
   "execution_count": 182,
   "id": "e740edf9",
   "metadata": {},
   "outputs": [
    {
     "data": {
      "text/plain": [
       "26352064.153023172"
      ]
     },
     "execution_count": 182,
     "metadata": {},
     "output_type": "execute_result"
    }
   ],
   "source": [
    "pf.final_amount"
   ]
  },
  {
   "cell_type": "code",
   "execution_count": 183,
   "id": "2317e73b",
   "metadata": {},
   "outputs": [
    {
     "name": "stdout",
     "output_type": "stream",
     "text": [
      "Monthly deposit :6000 is required \n"
     ]
    }
   ],
   "source": [
    "pf.value_investment(17419161.05030345)"
   ]
  },
  {
   "cell_type": "code",
   "execution_count": null,
   "id": "8f24d641",
   "metadata": {},
   "outputs": [],
   "source": [
    "52000\n",
    "30000"
   ]
  }
 ],
 "metadata": {
  "kernelspec": {
   "display_name": "Python 3",
   "language": "python",
   "name": "python3"
  },
  "language_info": {
   "codemirror_mode": {
    "name": "ipython",
    "version": 3
   },
   "file_extension": ".py",
   "mimetype": "text/x-python",
   "name": "python",
   "nbconvert_exporter": "python",
   "pygments_lexer": "ipython3",
   "version": "3.8.8"
  }
 },
 "nbformat": 4,
 "nbformat_minor": 5
}
