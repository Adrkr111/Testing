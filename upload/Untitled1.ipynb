{
 "cells": [
  {
   "cell_type": "code",
   "execution_count": 1,
   "id": "5e38a016",
   "metadata": {},
   "outputs": [],
   "source": [
    "import numpy as np\n",
    "import pandas as pd\n",
    "import sklearn.datasets\n",
    "import lightgbm\n",
    "import multiprocessing\n",
    "import time\n",
    "from numba import jit, cuda\n",
    "import numba\n",
    "from tqdm import tqdm"
   ]
  },
  {
   "cell_type": "code",
   "execution_count": 2,
   "id": "a6ed859a",
   "metadata": {},
   "outputs": [
    {
     "data": {
      "text/plain": [
       "(506, 14)"
      ]
     },
     "execution_count": 2,
     "metadata": {},
     "output_type": "execute_result"
    }
   ],
   "source": [
    "data=sklearn.datasets.load_boston()\n",
    "df=pd.DataFrame(data['data'],columns=data['feature_names'])\n",
    "df_work=pd.concat([df,pd.DataFrame(data['target'],columns=['price'])],axis=1)\n",
    "df_work.shape\n"
   ]
  },
  {
   "cell_type": "code",
   "execution_count": 3,
   "id": "30433421",
   "metadata": {},
   "outputs": [],
   "source": [
    "class Boosted_Feature_extractor:\n",
    "\n",
    "  def __init__(self,n_feature,model,train_data,train_label,val_data,val_label,estimator=100):\n",
    "    self.n_feature=n_feature\n",
    "    self.model=model\n",
    "    self.train_data=train_data\n",
    "    self.train_label=train_label\n",
    "    self.val_data=val_data\n",
    "    self.val_label=val_label\n",
    "    self.estimator=estimator\n",
    "    self.pool_score={}\n",
    "    self.grid_score={}\n",
    "    self.grid=None\n",
    "    self.pred=None\n",
    "\n",
    "  def performScoring(scoring_actual_field, scoring_predicted_field, scoring_arguments):\n",
    "        actuals = scoring_actual_field.tolist()\n",
    "        predicted = scoring_predicted_field.tolist()\n",
    "        test_data_len=len(scoring_actual_field)\n",
    "        merror = mean_squared_error(actuals, predicted)\n",
    "        RMSE = (merror**.5)\n",
    "        days =scoring_arguments\n",
    "        pred_rnd = np.round_(predicted)\n",
    "        report = \"MSE :\" + ' ' + str(np.around(merror,decimals=2)) + \"\\n\" + \"\\n\" + \"RMSE :\" + ' ' + str(np.around(RMSE,decimals=2)) + \" days\" + \"\\n\" + \"\\n\"\n",
    "        # Calculating accuracy for days\n",
    "        for day in days:\n",
    "            count = 0\n",
    "            for j in zip(actuals, pred_rnd):\n",
    "                if ((abs(j[0] - j[1]) <= int(day))):\n",
    "                    count += 1\n",
    "            accuracy= (count / test_data_len * 100)\n",
    "            append_string = \"+/-\" + str(day) + ' ' + 'Days' + \" :\" + ' ' + str(np.around(accuracy,decimals=2)) + \"%\"  \"\\n\" + \"\\n\"\n",
    "            report = report + append_string\n",
    "        return np.around(accuracy,decimals=2)\n",
    "  \n",
    "  def selection_grid(self):\n",
    "     self.grid=pd.concat([pd.DataFrame(np.random.randint(0,2,size=(len(self.n_feature),self.estimator))) for i in range(4)]).reset_index(drop=True)\n",
    "\n",
    "  #sub_grid :tuple (index, sub_df)\n",
    "  def model_training(self,sub_grid):\n",
    "    print('inside trainer')\n",
    "    selection=sub_grid[1].loc[sub_grid[0]:sub_grid[0]+len(self.n_feature)-1]\n",
    "    ind=selection[selection==1].index\n",
    "    if ind[0]>=len(self.n_feature):\n",
    "      ind-=sub_grid[0]\n",
    "    print(ind)\n",
    "    self.model.fit(self.train_data.iloc[:,ind],self.train_label)\n",
    "    print(1)\n",
    "    self.pred=self.model.predict(self.val_data.iloc[:,ind])\n",
    "    scr=self.performScoring(self.val_label,self.pred,[3])\n",
    "    self.pool_score[scr]=self.train_label.iloc[:,ind].columns\n",
    "    print(2)\n",
    "    \n",
    "  def perform_selection(self):\n",
    "    # selfselection_grid(self.n_feature,self.estimator)\n",
    "    for i in tqdm(self.grid.columns):\n",
    "        sub_grid=[self.grid[i]]*4\n",
    "        pool_index=list(range(0,self.grid.shape[0],len(self.n_feature)))\n",
    "        inputs=zip(pool_index,sub_grid)\n",
    "        pool = multiprocessing.Pool()\n",
    "        print('start')\n",
    "        pool.map(self.model_training, inputs)\n",
    "        print('stop')\n",
    "        pool.close()\n",
    "        pool.join()\n",
    "    self.grid_score[max(self.pool_score.keys())]=self.pool_score[max(self.pool_score.keys())]\n",
    "    print(self.grid_score)\n",
    "    self.pool_score={}\n",
    "    return (max(self.grid_score.keys()),self.grid_score[max(self.grid_score.keys())])  "
   ]
  },
  {
   "cell_type": "code",
   "execution_count": 4,
   "id": "485e65b6",
   "metadata": {},
   "outputs": [],
   "source": [
    "from sklearn.model_selection import train_test_split\n",
    "x_train,x_test,y_train,y_test=train_test_split(df_work.iloc[:,:-1],df_work['price'],test_size=.2,random_state=42)"
   ]
  },
  {
   "cell_type": "code",
   "execution_count": 5,
   "id": "83c259c0",
   "metadata": {},
   "outputs": [],
   "source": [
    "total_features=['CRIM', 'ZN', 'INDUS', 'CHAS', 'NOX', 'RM', 'AGE', 'DIS', 'RAD', 'TAX',\n",
    "       'PTRATIO', 'B', 'LSTAT']\n",
    "model=lightgbm.LGBMRegressor()"
   ]
  },
  {
   "cell_type": "code",
   "execution_count": 6,
   "id": "aab9f0a0",
   "metadata": {},
   "outputs": [],
   "source": [
    "bfe=Boosted_Feature_extractor(total_features,model,x_train,y_train,x_test,y_test)\n"
   ]
  },
  {
   "cell_type": "code",
   "execution_count": 7,
   "id": "014ab083",
   "metadata": {},
   "outputs": [],
   "source": [
    "bfe.selection_grid()\n"
   ]
  },
  {
   "cell_type": "code",
   "execution_count": null,
   "id": "3a7209d0",
   "metadata": {},
   "outputs": [
    {
     "name": "stderr",
     "output_type": "stream",
     "text": [
      "\r",
      "  0%|                                                                                          | 0/100 [00:00<?, ?it/s]"
     ]
    },
    {
     "name": "stdout",
     "output_type": "stream",
     "text": [
      "start\n"
     ]
    }
   ],
   "source": [
    "bfe.perform_selection()"
   ]
  },
  {
   "cell_type": "code",
   "execution_count": null,
   "id": "14a4abf4",
   "metadata": {},
   "outputs": [],
   "source": [
    "import multiprocessing\n",
    "import time\n",
    "  \n",
    "# square function\n",
    "def square(x):\n",
    "    return x * x\n",
    "  \n",
    "  \n",
    "if __name__ == '__main__':\n",
    "  \n",
    "    # multiprocessing pool object\n",
    "    pool = multiprocessing.Pool()\n",
    "  \n",
    "    # pool object with number of element\n",
    "    pool = multiprocessing.Pool(processes=4)\n",
    "  \n",
    "    # input list\n",
    "    inputs = [0, 1, 2, 3, 4]\n",
    "  \n",
    "    # map the function to the list and pass\n",
    "    # function and input list as arguments\n",
    "    outputs = pool.map(square, inputs)\n",
    "  \n",
    "    # Print input list\n",
    "    print(\"Input: {}\".format(inputs))\n",
    "  \n",
    "    # Print output list\n",
    "    print(\"Output: {}\".format(outputs))"
   ]
  },
  {
   "cell_type": "code",
   "execution_count": null,
   "id": "e90c5c29",
   "metadata": {},
   "outputs": [],
   "source": []
  }
 ],
 "metadata": {
  "kernelspec": {
   "display_name": "Python 3",
   "language": "python",
   "name": "python3"
  },
  "language_info": {
   "codemirror_mode": {
    "name": "ipython",
    "version": 3
   },
   "file_extension": ".py",
   "mimetype": "text/x-python",
   "name": "python",
   "nbconvert_exporter": "python",
   "pygments_lexer": "ipython3",
   "version": "3.8.8"
  }
 },
 "nbformat": 4,
 "nbformat_minor": 5
}
