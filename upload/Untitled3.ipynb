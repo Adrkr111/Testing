{
 "cells": [
  {
   "cell_type": "code",
   "execution_count": 2,
   "id": "7280bf50",
   "metadata": {},
   "outputs": [
    {
     "name": "stdout",
     "output_type": "stream",
     "text": [
      "Collecting sounddevice\n",
      "  Downloading sounddevice-0.4.4-py3-none-win_amd64.whl (195 kB)\n",
      "Requirement already satisfied: CFFI>=1.0 in c:\\users\\user\\anaconda3\\lib\\site-packages (from sounddevice) (1.14.5)\n",
      "Requirement already satisfied: pycparser in c:\\users\\user\\anaconda3\\lib\\site-packages (from CFFI>=1.0->sounddevice) (2.20)\n",
      "Installing collected packages: sounddevice\n",
      "Successfully installed sounddevice-0.4.4\n",
      "Note: you may need to restart the kernel to use updated packages.\n"
     ]
    }
   ],
   "source": [
    "pip install sounddevice"
   ]
  },
  {
   "cell_type": "code",
   "execution_count": 13,
   "id": "8950da40",
   "metadata": {},
   "outputs": [
    {
     "name": "stdout",
     "output_type": "stream",
     "text": [
      "Start\n",
      "Start recording\n",
      "Recording end\n"
     ]
    }
   ],
   "source": [
    "import sounddevice as sd\n",
    "from scipy.io.wavfile import write\n",
    "# import wavio as wv\n",
    "  \n",
    "# Sampling frequency\n",
    "freq = 16000\n",
    "  \n",
    "# Recording duration\n",
    "duration = 2\n",
    "  \n",
    "# Start recorder with the given values \n",
    "# of duration and sample frequency\n",
    "# print(\"Start recording\")\n",
    "input('Start')\n",
    "print(\"Start recording\")\n",
    "recording = sd.rec(int(duration * freq), \n",
    "                   samplerate=freq, channels=2)\n",
    "  \n",
    "# Record audio for the given number of seconds\n",
    "sd.wait(2)\n",
    "print(\"Recording end\")\n",
    "# This will convert the NumPy array to an audio\n",
    "# file with the given sampling frequency\n",
    "write(\"recording0.wav\", freq, recording)"
   ]
  },
  {
   "cell_type": "code",
   "execution_count": null,
   "id": "9cb20c33",
   "metadata": {},
   "outputs": [],
   "source": []
  }
 ],
 "metadata": {
  "kernelspec": {
   "display_name": "Python 3",
   "language": "python",
   "name": "python3"
  },
  "language_info": {
   "codemirror_mode": {
    "name": "ipython",
    "version": 3
   },
   "file_extension": ".py",
   "mimetype": "text/x-python",
   "name": "python",
   "nbconvert_exporter": "python",
   "pygments_lexer": "ipython3",
   "version": "3.8.8"
  }
 },
 "nbformat": 4,
 "nbformat_minor": 5
}
